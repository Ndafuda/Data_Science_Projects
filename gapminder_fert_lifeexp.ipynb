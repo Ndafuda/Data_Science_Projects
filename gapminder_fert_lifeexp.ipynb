{
 "cells": [
  {
   "cell_type": "markdown",
   "id": "20b38def",
   "metadata": {},
   "source": [
    "# Gapminder data visualisation project\n",
    "       "
   ]
  },
  {
   "cell_type": "markdown",
   "id": "69dbda77",
   "metadata": {},
   "source": [
    "# Import libraries"
   ]
  },
  {
   "cell_type": "code",
   "execution_count": 1,
   "id": "baf656e8",
   "metadata": {},
   "outputs": [],
   "source": [
    "import pandas as pd\n",
    "import seaborn as sns\n",
    "import matplotlib.pyplot as plt\n",
    "import numpy as np\n",
    "%matplotlib inline"
   ]
  },
  {
   "cell_type": "markdown",
   "id": "892be114",
   "metadata": {},
   "source": [
    "# Load the gapminder data into pandas"
   ]
  },
  {
   "cell_type": "code",
   "execution_count": null,
   "id": "cc2ad0ec",
   "metadata": {},
   "outputs": [],
   "source": []
  },
  {
   "cell_type": "code",
   "execution_count": 2,
   "id": "5acc3012",
   "metadata": {},
   "outputs": [],
   "source": [
    "life = pd.read_excel('../data/gapminder_lifeexpectancy.xlsx', index_col=0)\n",
    "fert = pd.read_csv('../data/gapminder_total_fertility.csv', index_col=0)\n",
    "popul = pd.read_excel('../data/gapminder_population.xlsx', index_col=0)"
   ]
  },
  {
   "cell_type": "markdown",
   "id": "4ed157fb",
   "metadata": {},
   "source": [
    "# Inspect and explore data"
   ]
  },
  {
   "cell_type": "code",
   "execution_count": 3,
   "id": "d6f5ebd6",
   "metadata": {},
   "outputs": [
    {
     "data": {
      "text/plain": [
       "Index(['1800', '1801', '1802', '1803', '1804', '1805', '1806', '1807', '1808',\n",
       "       '1809',\n",
       "       ...\n",
       "       '2006', '2007', '2008', '2009', '2010', '2011', '2012', '2013', '2014',\n",
       "       '2015'],\n",
       "      dtype='object', length=216)"
      ]
     },
     "execution_count": 3,
     "metadata": {},
     "output_type": "execute_result"
    }
   ],
   "source": [
    "fert.columns"
   ]
  },
  {
   "cell_type": "code",
   "execution_count": 4,
   "id": "fe55658d",
   "metadata": {
    "scrolled": true
   },
   "outputs": [
    {
     "data": {
      "text/plain": [
       "((260, 217), (260, 216), (275, 81))"
      ]
     },
     "execution_count": 4,
     "metadata": {},
     "output_type": "execute_result"
    }
   ],
   "source": [
    "life.shape, fert.shape, popul.shape"
   ]
  },
  {
   "cell_type": "markdown",
   "id": "01720ef7",
   "metadata": {},
   "source": [
    "# Life expectancy"
   ]
  },
  {
   "cell_type": "code",
   "execution_count": 5,
   "id": "7633a514",
   "metadata": {},
   "outputs": [
    {
     "data": {
      "text/html": [
       "<div>\n",
       "<style scoped>\n",
       "    .dataframe tbody tr th:only-of-type {\n",
       "        vertical-align: middle;\n",
       "    }\n",
       "\n",
       "    .dataframe tbody tr th {\n",
       "        vertical-align: top;\n",
       "    }\n",
       "\n",
       "    .dataframe thead th {\n",
       "        text-align: right;\n",
       "    }\n",
       "</style>\n",
       "<table border=\"1\" class=\"dataframe\">\n",
       "  <thead>\n",
       "    <tr style=\"text-align: right;\">\n",
       "      <th></th>\n",
       "      <th>1950.0</th>\n",
       "      <th>1975.0</th>\n",
       "      <th>2000.0</th>\n",
       "      <th>2015.0</th>\n",
       "    </tr>\n",
       "    <tr>\n",
       "      <th>Life expectancy</th>\n",
       "      <th></th>\n",
       "      <th></th>\n",
       "      <th></th>\n",
       "      <th></th>\n",
       "    </tr>\n",
       "  </thead>\n",
       "  <tbody>\n",
       "    <tr>\n",
       "      <th>Abkhazia</th>\n",
       "      <td>NaN</td>\n",
       "      <td>NaN</td>\n",
       "      <td>NaN</td>\n",
       "      <td>NaN</td>\n",
       "    </tr>\n",
       "    <tr>\n",
       "      <th>Afghanistan</th>\n",
       "      <td>26.85</td>\n",
       "      <td>39.61</td>\n",
       "      <td>50.1</td>\n",
       "      <td>53.8</td>\n",
       "    </tr>\n",
       "    <tr>\n",
       "      <th>Akrotiri and Dhekelia</th>\n",
       "      <td>NaN</td>\n",
       "      <td>NaN</td>\n",
       "      <td>NaN</td>\n",
       "      <td>NaN</td>\n",
       "    </tr>\n",
       "    <tr>\n",
       "      <th>Albania</th>\n",
       "      <td>54.48</td>\n",
       "      <td>69.77</td>\n",
       "      <td>74.7</td>\n",
       "      <td>78.0</td>\n",
       "    </tr>\n",
       "    <tr>\n",
       "      <th>Algeria</th>\n",
       "      <td>42.77</td>\n",
       "      <td>55.24</td>\n",
       "      <td>73.3</td>\n",
       "      <td>76.4</td>\n",
       "    </tr>\n",
       "    <tr>\n",
       "      <th>...</th>\n",
       "      <td>...</td>\n",
       "      <td>...</td>\n",
       "      <td>...</td>\n",
       "      <td>...</td>\n",
       "    </tr>\n",
       "    <tr>\n",
       "      <th>Yugoslavia</th>\n",
       "      <td>NaN</td>\n",
       "      <td>NaN</td>\n",
       "      <td>NaN</td>\n",
       "      <td>NaN</td>\n",
       "    </tr>\n",
       "    <tr>\n",
       "      <th>Zambia</th>\n",
       "      <td>42.85</td>\n",
       "      <td>56.70</td>\n",
       "      <td>44.8</td>\n",
       "      <td>56.7</td>\n",
       "    </tr>\n",
       "    <tr>\n",
       "      <th>Zimbabwe</th>\n",
       "      <td>48.46</td>\n",
       "      <td>59.41</td>\n",
       "      <td>47.9</td>\n",
       "      <td>59.3</td>\n",
       "    </tr>\n",
       "    <tr>\n",
       "      <th>Åland</th>\n",
       "      <td>NaN</td>\n",
       "      <td>NaN</td>\n",
       "      <td>80.0</td>\n",
       "      <td>NaN</td>\n",
       "    </tr>\n",
       "    <tr>\n",
       "      <th>South Sudan</th>\n",
       "      <td>28.14</td>\n",
       "      <td>42.93</td>\n",
       "      <td>54.4</td>\n",
       "      <td>56.1</td>\n",
       "    </tr>\n",
       "  </tbody>\n",
       "</table>\n",
       "<p>260 rows × 4 columns</p>\n",
       "</div>"
      ],
      "text/plain": [
       "                       1950.0  1975.0  2000.0  2015.0\n",
       "Life expectancy                                      \n",
       "Abkhazia                  NaN     NaN     NaN     NaN\n",
       "Afghanistan             26.85   39.61    50.1    53.8\n",
       "Akrotiri and Dhekelia     NaN     NaN     NaN     NaN\n",
       "Albania                 54.48   69.77    74.7    78.0\n",
       "Algeria                 42.77   55.24    73.3    76.4\n",
       "...                       ...     ...     ...     ...\n",
       "Yugoslavia                NaN     NaN     NaN     NaN\n",
       "Zambia                  42.85   56.70    44.8    56.7\n",
       "Zimbabwe                48.46   59.41    47.9    59.3\n",
       "Åland                     NaN     NaN    80.0     NaN\n",
       "South Sudan             28.14   42.93    54.4    56.1\n",
       "\n",
       "[260 rows x 4 columns]"
      ]
     },
     "execution_count": 5,
     "metadata": {},
     "output_type": "execute_result"
    }
   ],
   "source": [
    "life[[1950, 1975, 2000, 2015]]"
   ]
  },
  {
   "cell_type": "markdown",
   "id": "937afd7d",
   "metadata": {},
   "source": [
    "# Plot the histogram"
   ]
  },
  {
   "cell_type": "code",
   "execution_count": 6,
   "id": "c4594d2d",
   "metadata": {},
   "outputs": [],
   "source": [
    "pd.options.plotting.backend = \"matplotlib\""
   ]
  },
  {
   "cell_type": "code",
   "execution_count": 7,
   "id": "77d8349c",
   "metadata": {
    "scrolled": true
   },
   "outputs": [
    {
     "data": {
      "image/png": "[encoded data removed]",
      "text/plain": [
       "<Figure size 432x288 with 1 Axes>"
      ]
     },
     "metadata": {
      "needs_background": "light"
     },
     "output_type": "display_data"
    }
   ],
   "source": [
    "life[2015].hist(bins = 25, facecolor='green', alpha=0.5, histtype='bar', stacked=False)\n",
    "plt.title('histogram of life expectancies for the year 2015')\n",
    "plt.xlabel('value')\n",
    "plt.ylabel('frequency')\n",
    "plt.axis([45, 90, 0.0, 20])\n",
    "plt.grid(True)\n",
    "# plt.savefig('histo.png')\n",
    "# plt.savefig('histo.svg')"
   ]
  },
  {
   "cell_type": "markdown",
   "id": "e9dc46a5",
   "metadata": {},
   "source": [
    "# Fertility rates"
   ]
  },
  {
   "cell_type": "code",
   "execution_count": 8,
   "id": "f34e9fd3",
   "metadata": {},
   "outputs": [
    {
     "name": "stdout",
     "output_type": "stream",
     "text": [
      "(260, 216)\n"
     ]
    }
   ],
   "source": [
    "print(fert.shape)"
   ]
  },
  {
   "cell_type": "code",
   "execution_count": 9,
   "id": "9fa170be",
   "metadata": {},
   "outputs": [
    {
     "data": {
      "text/plain": [
       "Index(['1800', '1801', '1802', '1803', '1804', '1805', '1806', '1807', '1808',\n",
       "       '1809',\n",
       "       ...\n",
       "       '2006', '2007', '2008', '2009', '2010', '2011', '2012', '2013', '2014',\n",
       "       '2015'],\n",
       "      dtype='object', length=216)"
      ]
     },
     "execution_count": 9,
     "metadata": {},
     "output_type": "execute_result"
    }
   ],
   "source": [
    "fert.columns"
   ]
  },
  {
   "cell_type": "code",
   "execution_count": 10,
   "id": "8b62c7df",
   "metadata": {},
   "outputs": [
    {
     "data": {
      "text/html": [
       "<div>\n",
       "<style scoped>\n",
       "    .dataframe tbody tr th:only-of-type {\n",
       "        vertical-align: middle;\n",
       "    }\n",
       "\n",
       "    .dataframe tbody tr th {\n",
       "        vertical-align: top;\n",
       "    }\n",
       "\n",
       "    .dataframe thead th {\n",
       "        text-align: right;\n",
       "    }\n",
       "</style>\n",
       "<table border=\"1\" class=\"dataframe\">\n",
       "  <thead>\n",
       "    <tr style=\"text-align: right;\">\n",
       "      <th></th>\n",
       "      <th>1800</th>\n",
       "      <th>1801</th>\n",
       "      <th>1802</th>\n",
       "      <th>1803</th>\n",
       "      <th>1804</th>\n",
       "      <th>1805</th>\n",
       "      <th>1806</th>\n",
       "      <th>1807</th>\n",
       "      <th>1808</th>\n",
       "      <th>1809</th>\n",
       "      <th>...</th>\n",
       "      <th>2006</th>\n",
       "      <th>2007</th>\n",
       "      <th>2008</th>\n",
       "      <th>2009</th>\n",
       "      <th>2010</th>\n",
       "      <th>2011</th>\n",
       "      <th>2012</th>\n",
       "      <th>2013</th>\n",
       "      <th>2014</th>\n",
       "      <th>2015</th>\n",
       "    </tr>\n",
       "    <tr>\n",
       "      <th>Total fertility rate</th>\n",
       "      <th></th>\n",
       "      <th></th>\n",
       "      <th></th>\n",
       "      <th></th>\n",
       "      <th></th>\n",
       "      <th></th>\n",
       "      <th></th>\n",
       "      <th></th>\n",
       "      <th></th>\n",
       "      <th></th>\n",
       "      <th></th>\n",
       "      <th></th>\n",
       "      <th></th>\n",
       "      <th></th>\n",
       "      <th></th>\n",
       "      <th></th>\n",
       "      <th></th>\n",
       "      <th></th>\n",
       "      <th></th>\n",
       "      <th></th>\n",
       "      <th></th>\n",
       "    </tr>\n",
       "  </thead>\n",
       "  <tbody>\n",
       "    <tr>\n",
       "      <th>Abkhazia</th>\n",
       "      <td>NaN</td>\n",
       "      <td>NaN</td>\n",
       "      <td>NaN</td>\n",
       "      <td>NaN</td>\n",
       "      <td>NaN</td>\n",
       "      <td>NaN</td>\n",
       "      <td>NaN</td>\n",
       "      <td>NaN</td>\n",
       "      <td>NaN</td>\n",
       "      <td>NaN</td>\n",
       "      <td>...</td>\n",
       "      <td>NaN</td>\n",
       "      <td>NaN</td>\n",
       "      <td>NaN</td>\n",
       "      <td>NaN</td>\n",
       "      <td>NaN</td>\n",
       "      <td>NaN</td>\n",
       "      <td>NaN</td>\n",
       "      <td>NaN</td>\n",
       "      <td>NaN</td>\n",
       "      <td>NaN</td>\n",
       "    </tr>\n",
       "    <tr>\n",
       "      <th>Afghanistan</th>\n",
       "      <td>7.00</td>\n",
       "      <td>7.00</td>\n",
       "      <td>7.00</td>\n",
       "      <td>7.00</td>\n",
       "      <td>7.00</td>\n",
       "      <td>7.00</td>\n",
       "      <td>7.00</td>\n",
       "      <td>7.00</td>\n",
       "      <td>7.00</td>\n",
       "      <td>7.00</td>\n",
       "      <td>...</td>\n",
       "      <td>6.70</td>\n",
       "      <td>6.46</td>\n",
       "      <td>6.20</td>\n",
       "      <td>5.93</td>\n",
       "      <td>5.66</td>\n",
       "      <td>5.40</td>\n",
       "      <td>5.14</td>\n",
       "      <td>4.90</td>\n",
       "      <td>4.68</td>\n",
       "      <td>4.47</td>\n",
       "    </tr>\n",
       "    <tr>\n",
       "      <th>Akrotiri and Dhekelia</th>\n",
       "      <td>NaN</td>\n",
       "      <td>NaN</td>\n",
       "      <td>NaN</td>\n",
       "      <td>NaN</td>\n",
       "      <td>NaN</td>\n",
       "      <td>NaN</td>\n",
       "      <td>NaN</td>\n",
       "      <td>NaN</td>\n",
       "      <td>NaN</td>\n",
       "      <td>NaN</td>\n",
       "      <td>...</td>\n",
       "      <td>NaN</td>\n",
       "      <td>NaN</td>\n",
       "      <td>NaN</td>\n",
       "      <td>NaN</td>\n",
       "      <td>NaN</td>\n",
       "      <td>NaN</td>\n",
       "      <td>NaN</td>\n",
       "      <td>NaN</td>\n",
       "      <td>NaN</td>\n",
       "      <td>NaN</td>\n",
       "    </tr>\n",
       "    <tr>\n",
       "      <th>Albania</th>\n",
       "      <td>4.60</td>\n",
       "      <td>4.60</td>\n",
       "      <td>4.60</td>\n",
       "      <td>4.60</td>\n",
       "      <td>4.60</td>\n",
       "      <td>4.60</td>\n",
       "      <td>4.60</td>\n",
       "      <td>4.60</td>\n",
       "      <td>4.60</td>\n",
       "      <td>4.60</td>\n",
       "      <td>...</td>\n",
       "      <td>1.85</td>\n",
       "      <td>1.80</td>\n",
       "      <td>1.76</td>\n",
       "      <td>1.74</td>\n",
       "      <td>1.74</td>\n",
       "      <td>1.75</td>\n",
       "      <td>1.76</td>\n",
       "      <td>1.77</td>\n",
       "      <td>1.78</td>\n",
       "      <td>1.78</td>\n",
       "    </tr>\n",
       "    <tr>\n",
       "      <th>Algeria</th>\n",
       "      <td>6.99</td>\n",
       "      <td>6.99</td>\n",
       "      <td>6.99</td>\n",
       "      <td>6.99</td>\n",
       "      <td>6.99</td>\n",
       "      <td>6.99</td>\n",
       "      <td>6.99</td>\n",
       "      <td>6.99</td>\n",
       "      <td>6.99</td>\n",
       "      <td>6.99</td>\n",
       "      <td>...</td>\n",
       "      <td>2.58</td>\n",
       "      <td>2.66</td>\n",
       "      <td>2.73</td>\n",
       "      <td>2.78</td>\n",
       "      <td>2.82</td>\n",
       "      <td>2.83</td>\n",
       "      <td>2.82</td>\n",
       "      <td>2.80</td>\n",
       "      <td>2.76</td>\n",
       "      <td>2.71</td>\n",
       "    </tr>\n",
       "  </tbody>\n",
       "</table>\n",
       "<p>5 rows × 216 columns</p>\n",
       "</div>"
      ],
      "text/plain": [
       "                       1800  1801  1802  1803  1804  1805  1806  1807  1808  \\\n",
       "Total fertility rate                                                          \n",
       "Abkhazia                NaN   NaN   NaN   NaN   NaN   NaN   NaN   NaN   NaN   \n",
       "Afghanistan            7.00  7.00  7.00  7.00  7.00  7.00  7.00  7.00  7.00   \n",
       "Akrotiri and Dhekelia   NaN   NaN   NaN   NaN   NaN   NaN   NaN   NaN   NaN   \n",
       "Albania                4.60  4.60  4.60  4.60  4.60  4.60  4.60  4.60  4.60   \n",
       "Algeria                6.99  6.99  6.99  6.99  6.99  6.99  6.99  6.99  6.99   \n",
       "\n",
       "                       1809  ...  2006  2007  2008  2009  2010  2011  2012  \\\n",
       "Total fertility rate         ...                                             \n",
       "Abkhazia                NaN  ...   NaN   NaN   NaN   NaN   NaN   NaN   NaN   \n",
       "Afghanistan            7.00  ...  6.70  6.46  6.20  5.93  5.66  5.40  5.14   \n",
       "Akrotiri and Dhekelia   NaN  ...   NaN   NaN   NaN   NaN   NaN   NaN   NaN   \n",
       "Albania                4.60  ...  1.85  1.80  1.76  1.74  1.74  1.75  1.76   \n",
       "Algeria                6.99  ...  2.58  2.66  2.73  2.78  2.82  2.83  2.82   \n",
       "\n",
       "                       2013  2014  2015  \n",
       "Total fertility rate                     \n",
       "Abkhazia                NaN   NaN   NaN  \n",
       "Afghanistan            4.90  4.68  4.47  \n",
       "Akrotiri and Dhekelia   NaN   NaN   NaN  \n",
       "Albania                1.77  1.78  1.78  \n",
       "Algeria                2.80  2.76  2.71  \n",
       "\n",
       "[5 rows x 216 columns]"
      ]
     },
     "execution_count": 10,
     "metadata": {},
     "output_type": "execute_result"
    }
   ],
   "source": [
    "fert.head()"
   ]
  },
  {
   "cell_type": "code",
   "execution_count": 11,
   "id": "21479470",
   "metadata": {},
   "outputs": [],
   "source": [
    "df = fert[['1950', '1955', '2000']]"
   ]
  },
  {
   "cell_type": "code",
   "execution_count": 12,
   "id": "db778824",
   "metadata": {},
   "outputs": [],
   "source": [
    "df = df.loc[['Germany', 'India', 'Bulgaria', 'Kenya']]"
   ]
  },
  {
   "cell_type": "code",
   "execution_count": 13,
   "id": "ad68c298",
   "metadata": {},
   "outputs": [],
   "source": [
    "# pd.options.plotting.backend = \"plotly\""
   ]
  },
  {
   "cell_type": "code",
   "execution_count": 14,
   "id": "7c38e2e2",
   "metadata": {},
   "outputs": [
    {
     "data": {
      "text/html": [
       "<div>\n",
       "<style scoped>\n",
       "    .dataframe tbody tr th:only-of-type {\n",
       "        vertical-align: middle;\n",
       "    }\n",
       "\n",
       "    .dataframe tbody tr th {\n",
       "        vertical-align: top;\n",
       "    }\n",
       "\n",
       "    .dataframe thead th {\n",
       "        text-align: right;\n",
       "    }\n",
       "</style>\n",
       "<table border=\"1\" class=\"dataframe\">\n",
       "  <thead>\n",
       "    <tr style=\"text-align: right;\">\n",
       "      <th></th>\n",
       "      <th>1950</th>\n",
       "      <th>1955</th>\n",
       "      <th>2000</th>\n",
       "    </tr>\n",
       "    <tr>\n",
       "      <th>Total fertility rate</th>\n",
       "      <th></th>\n",
       "      <th></th>\n",
       "      <th></th>\n",
       "    </tr>\n",
       "  </thead>\n",
       "  <tbody>\n",
       "    <tr>\n",
       "      <th>Germany</th>\n",
       "      <td>2.07</td>\n",
       "      <td>2.21</td>\n",
       "      <td>1.35</td>\n",
       "    </tr>\n",
       "    <tr>\n",
       "      <th>India</th>\n",
       "      <td>5.89</td>\n",
       "      <td>5.91</td>\n",
       "      <td>3.15</td>\n",
       "    </tr>\n",
       "    <tr>\n",
       "      <th>Bulgaria</th>\n",
       "      <td>2.66</td>\n",
       "      <td>2.39</td>\n",
       "      <td>1.18</td>\n",
       "    </tr>\n",
       "    <tr>\n",
       "      <th>Kenya</th>\n",
       "      <td>7.36</td>\n",
       "      <td>7.64</td>\n",
       "      <td>5.01</td>\n",
       "    </tr>\n",
       "  </tbody>\n",
       "</table>\n",
       "</div>"
      ],
      "text/plain": [
       "                      1950  1955  2000\n",
       "Total fertility rate                  \n",
       "Germany               2.07  2.21  1.35\n",
       "India                 5.89  5.91  3.15\n",
       "Bulgaria              2.66  2.39  1.18\n",
       "Kenya                 7.36  7.64  5.01"
      ]
     },
     "execution_count": 14,
     "metadata": {},
     "output_type": "execute_result"
    }
   ],
   "source": [
    "df"
   ]
  },
  {
   "cell_type": "code",
   "execution_count": 15,
   "id": "b49b8a3d",
   "metadata": {},
   "outputs": [
    {
     "data": {
      "image/png": "[encoded data removed]",
      "text/plain": [
       "<Figure size 1440x576 with 1 Axes>"
      ]
     },
     "metadata": {
      "needs_background": "light"
     },
     "output_type": "display_data"
    }
   ],
   "source": [
    "df.plot.bar(figsize=(20,8));"
   ]
  },
  {
   "cell_type": "code",
   "execution_count": 16,
   "id": "43bec424",
   "metadata": {},
   "outputs": [],
   "source": [
    "data = {'spices': ['parsley', 'sage', 'rosemary', 'thyme'],\n",
    "        'value': [1.2, 3.4, np.nan, 5.6],\n",
    "        'good_for_spaghetti': [False, False, True, True]}\n",
    "\n",
    "labels = ['a', 'b', 'c', 'd']\n",
    "df1=pd.DataFrame(data,index=labels)"
   ]
  },
  {
   "cell_type": "code",
   "execution_count": 17,
   "id": "2a87d4b2",
   "metadata": {},
   "outputs": [
    {
     "data": {
      "text/html": [
       "<div>\n",
       "<style scoped>\n",
       "    .dataframe tbody tr th:only-of-type {\n",
       "        vertical-align: middle;\n",
       "    }\n",
       "\n",
       "    .dataframe tbody tr th {\n",
       "        vertical-align: top;\n",
       "    }\n",
       "\n",
       "    .dataframe thead th {\n",
       "        text-align: right;\n",
       "    }\n",
       "</style>\n",
       "<table border=\"1\" class=\"dataframe\">\n",
       "  <thead>\n",
       "    <tr style=\"text-align: right;\">\n",
       "      <th></th>\n",
       "      <th>1950</th>\n",
       "      <th>1955</th>\n",
       "      <th>2000</th>\n",
       "    </tr>\n",
       "    <tr>\n",
       "      <th>Total fertility rate</th>\n",
       "      <th></th>\n",
       "      <th></th>\n",
       "      <th></th>\n",
       "    </tr>\n",
       "  </thead>\n",
       "  <tbody>\n",
       "    <tr>\n",
       "      <th>Germany</th>\n",
       "      <td>2.07</td>\n",
       "      <td>2.21</td>\n",
       "      <td>1.35</td>\n",
       "    </tr>\n",
       "    <tr>\n",
       "      <th>India</th>\n",
       "      <td>5.89</td>\n",
       "      <td>5.91</td>\n",
       "      <td>3.15</td>\n",
       "    </tr>\n",
       "    <tr>\n",
       "      <th>Bulgaria</th>\n",
       "      <td>2.66</td>\n",
       "      <td>2.39</td>\n",
       "      <td>1.18</td>\n",
       "    </tr>\n",
       "    <tr>\n",
       "      <th>Kenya</th>\n",
       "      <td>7.36</td>\n",
       "      <td>7.64</td>\n",
       "      <td>5.01</td>\n",
       "    </tr>\n",
       "  </tbody>\n",
       "</table>\n",
       "</div>"
      ],
      "text/plain": [
       "                      1950  1955  2000\n",
       "Total fertility rate                  \n",
       "Germany               2.07  2.21  1.35\n",
       "India                 5.89  5.91  3.15\n",
       "Bulgaria              2.66  2.39  1.18\n",
       "Kenya                 7.36  7.64  5.01"
      ]
     },
     "execution_count": 17,
     "metadata": {},
     "output_type": "execute_result"
    }
   ],
   "source": [
    "df"
   ]
  },
  {
   "cell_type": "code",
   "execution_count": 18,
   "id": "75ae8b6f",
   "metadata": {
    "scrolled": true
   },
   "outputs": [
    {
     "data": {
      "text/plain": [
       "Float64Index([1800.0, 1801.0, 1802.0, 1803.0, 1804.0, 1805.0, 1806.0, 1807.0,\n",
       "              1808.0, 1809.0,\n",
       "              ...\n",
       "              2007.0, 2008.0, 2009.0, 2010.0, 2011.0, 2012.0, 2013.0, 2014.0,\n",
       "              2015.0, 2016.0],\n",
       "             dtype='float64', length=217)"
      ]
     },
     "execution_count": 18,
     "metadata": {},
     "output_type": "execute_result"
    }
   ],
   "source": [
    "life.columns"
   ]
  },
  {
   "cell_type": "code",
   "execution_count": 19,
   "id": "c306835e",
   "metadata": {},
   "outputs": [],
   "source": [
    "fert.columns= fert.columns.astype(int) #converting fertility columns to integer type before merging with other data"
   ]
  },
  {
   "cell_type": "code",
   "execution_count": 20,
   "id": "4b186bb8",
   "metadata": {},
   "outputs": [
    {
     "data": {
      "text/plain": [
       "Index(['Abkhazia', 'Afghanistan', 'Akrotiri and Dhekelia', 'Albania',\n",
       "       'Algeria', 'American Samoa', 'Andorra', 'Angola', 'Anguilla',\n",
       "       'Antigua and Barbuda',\n",
       "       ...\n",
       "       'Vietnam', 'Virgin Islands (U.S.)', 'North Yemen (former)',\n",
       "       'South Yemen (former)', 'Yemen', 'Yugoslavia', 'Zambia', 'Zimbabwe',\n",
       "       'Åland', 'Åland'],\n",
       "      dtype='object', name='Total fertility rate', length=260)"
      ]
     },
     "execution_count": 20,
     "metadata": {},
     "output_type": "execute_result"
    }
   ],
   "source": [
    "fert.index"
   ]
  },
  {
   "cell_type": "code",
   "execution_count": 21,
   "id": "0293b943",
   "metadata": {},
   "outputs": [],
   "source": [
    "fert.index.name = 'country'"
   ]
  },
  {
   "cell_type": "markdown",
   "id": "d641506b",
   "metadata": {},
   "source": [
    "# Data preparation and wrangling"
   ]
  },
  {
   "cell_type": "code",
   "execution_count": 22,
   "id": "253f9f0d",
   "metadata": {},
   "outputs": [],
   "source": [
    "fert = fert.reset_index()"
   ]
  },
  {
   "cell_type": "code",
   "execution_count": 23,
   "id": "ec368cca",
   "metadata": {},
   "outputs": [],
   "source": [
    "fert = fert.melt(id_vars='country', var_name='year', value_name='Total_fertility_rate')"
   ]
  },
  {
   "cell_type": "code",
   "execution_count": 24,
   "id": "6ce7d995",
   "metadata": {},
   "outputs": [
    {
     "data": {
      "text/plain": [
       "Index(['Abkhazia', 'Afghanistan', 'Akrotiri and Dhekelia', 'Albania',\n",
       "       'Algeria', 'American Samoa', 'Andorra', 'Angola', 'Anguilla',\n",
       "       'Antigua and Barbuda',\n",
       "       ...\n",
       "       'Vietnam', 'Virgin Islands (U.S.)', 'North Yemen (former)',\n",
       "       'South Yemen (former)', 'Yemen', 'Yugoslavia', 'Zambia', 'Zimbabwe',\n",
       "       'Åland', 'South Sudan'],\n",
       "      dtype='object', name='Life expectancy', length=260)"
      ]
     },
     "execution_count": 24,
     "metadata": {},
     "output_type": "execute_result"
    }
   ],
   "source": [
    "life.index"
   ]
  },
  {
   "cell_type": "code",
   "execution_count": 25,
   "id": "70c529a5",
   "metadata": {},
   "outputs": [],
   "source": [
    "life.index.name = 'country'"
   ]
  },
  {
   "cell_type": "code",
   "execution_count": 26,
   "id": "8777c7c7",
   "metadata": {},
   "outputs": [],
   "source": [
    "life = life.reset_index()"
   ]
  },
  {
   "cell_type": "code",
   "execution_count": 27,
   "id": "184b662b",
   "metadata": {},
   "outputs": [],
   "source": [
    "life = life.melt(id_vars='country', var_name='year', value_name='expectancy_rate')"
   ]
  },
  {
   "cell_type": "code",
   "execution_count": 28,
   "id": "0d496f36",
   "metadata": {},
   "outputs": [
    {
     "name": "stdout",
     "output_type": "stream",
     "text": [
      "(275, 81)\n",
      "(56160, 3)\n",
      "(56420, 3)\n"
     ]
    },
    {
     "data": {
      "text/plain": [
       "(None, None, None)"
      ]
     },
     "execution_count": 28,
     "metadata": {},
     "output_type": "execute_result"
    }
   ],
   "source": [
    "print(popul.shape), print(fert.shape), print(life.shape)"
   ]
  },
  {
   "cell_type": "code",
   "execution_count": 29,
   "id": "80ba29f8",
   "metadata": {},
   "outputs": [],
   "source": [
    "popul.index.name = 'country'"
   ]
  },
  {
   "cell_type": "code",
   "execution_count": 30,
   "id": "d173d552",
   "metadata": {},
   "outputs": [],
   "source": [
    "popul =popul.reset_index()"
   ]
  },
  {
   "cell_type": "code",
   "execution_count": 31,
   "id": "9e98cdd5",
   "metadata": {},
   "outputs": [],
   "source": [
    "popul = popul.melt(id_vars='country', var_name='year', value_name='population')"
   ]
  },
  {
   "cell_type": "code",
   "execution_count": 32,
   "id": "53665a56",
   "metadata": {},
   "outputs": [],
   "source": [
    "df = fert.merge(popul)"
   ]
  },
  {
   "cell_type": "code",
   "execution_count": 33,
   "id": "5c3791fb",
   "metadata": {},
   "outputs": [],
   "source": [
    "df = df.merge(life)"
   ]
  },
  {
   "cell_type": "code",
   "execution_count": 34,
   "id": "32af46c6",
   "metadata": {},
   "outputs": [
    {
     "data": {
      "text/plain": [
       "Index(['country', 'year', 'Total_fertility_rate', 'population',\n",
       "       'expectancy_rate'],\n",
       "      dtype='object')"
      ]
     },
     "execution_count": 34,
     "metadata": {},
     "output_type": "execute_result"
    }
   ],
   "source": [
    "df.columns"
   ]
  },
  {
   "cell_type": "code",
   "execution_count": 95,
   "id": "f4327aa8",
   "metadata": {},
   "outputs": [
    {
     "data": {
      "image/png": "[encoded data removed]",
      "text/plain": [
       "<Figure size 432x288 with 1 Axes>"
      ]
     },
     "metadata": {
      "needs_background": "light"
     },
     "output_type": "display_data"
    }
   ],
   "source": [
    "df_subset = df[df['year'] == 2000]\n",
    "sns.scatterplot(x='expectancy_rate', y='Total_fertility_rate',\n",
    "            data=df_subset, alpha=0.6);"
   ]
  },
  {
   "cell_type": "code",
   "execution_count": 96,
   "id": "4823d7a9",
   "metadata": {},
   "outputs": [],
   "source": [
    "years=df.year.unique()"
   ]
  },
  {
   "cell_type": "code",
   "execution_count": 35,
   "id": "7ae97aa0",
   "metadata": {},
   "outputs": [],
   "source": [
    "for year in years:\n",
    "    plt.figure(figsize=(10, 5), facecolor=\"orange\")\n",
    "    save_name = f\"fert_lifeexp_{year}.png\"\n",
    "    df_subset = df.loc[df[\"year\"] == year]\n",
    "    scatter = sns.scatterplot(data=df_subset, x='expectancy_rate', y='Total_fertility_rate', size = 'population')\n",
    "    plt.title(f\"Year: {year}\")\n",
    "    scatter.set(xlabel='Life expectancy', ylabel='Fertility rate')\n",
    "    plt.axis((20, 90, 0, 10))\n",
    "    fig = scatter.get_figure()\n",
    "    fig.savefig(save_name)\n",
    "    plt.close()"
   ]
  },
  {
   "cell_type": "code",
   "execution_count": 36,
   "id": "414bfc65",
   "metadata": {},
   "outputs": [],
   "source": [
    "import imageio"
   ]
  },
  {
   "cell_type": "code",
   "execution_count": 97,
   "id": "892c9188",
   "metadata": {},
   "outputs": [],
   "source": [
    "# images = []\n",
    "# for i in range(1960, 2015):\n",
    "#     filename = 'fert_lifeexp_{}.png'.format(i)\n",
    "#     images.append(imageio.imread(filename))\n",
    "# imageio.mimsave('output_fps_20.gif', images, fps=20)"
   ]
  },
  {
   "cell_type": "code",
   "execution_count": null,
   "id": "3c00385c",
   "metadata": {},
   "outputs": [],
   "source": []
  },
  {
   "cell_type": "markdown",
   "id": "61887f87",
   "metadata": {},
   "source": [
    "##Combining two DataFrames"
   ]
  },
  {
   "cell_type": "code",
   "execution_count": null,
   "id": "b3858ceb",
   "metadata": {},
   "outputs": [],
   "source": []
  }
 ],
 "metadata": {
  "kernelspec": {
   "display_name": "Python 3 (ipykernel)",
   "language": "python",
   "name": "python3"
  },
  "language_info": {
   "codemirror_mode": {
    "name": "ipython",
    "version": 3
   },
   "file_extension": ".py",
   "mimetype": "text/x-python",
   "name": "python",
   "nbconvert_exporter": "python",
   "pygments_lexer": "ipython3",
   "version": "3.9.12"
  }
 },
 "nbformat": 4,
 "nbformat_minor": 5
}
